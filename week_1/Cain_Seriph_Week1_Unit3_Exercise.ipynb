{
  "nbformat": 4,
  "nbformat_minor": 0,
  "metadata": {
    "colab": {
      "provenance": []
    },
    "kernelspec": {
      "name": "python3",
      "display_name": "Python 3"
    },
    "language_info": {
      "name": "python"
    }
  },
  "cells": [
    {
      "cell_type": "markdown",
      "source": [
        "# Week 1 Unit 3: Exercise\n",
        "\n",
        "Write a Python program that asks the user to enter:\n",
        "\n",
        "* A name\n",
        "* A start city\n",
        "* A destination city and\n",
        "* A means of transportation\n",
        "\n",
        "The program should then print that the name wants to travel from start to destination by means of transportation.\n",
        "\n",
        "Below is an example execution of the program:\n",
        "\n",
        "```\n",
        "Please enter a name: Christian\n",
        "Please enter a start: Aachen\n",
        "Please enter a destination: Berlin\n",
        "Please enter a means of transportation: Train\n",
        "Christian wants to travel from Aachen to Berlin by Train\n",
        "```"
      ],
      "metadata": {
        "id": "oUgF2sChv7cy"
      }
    },
    {
      "cell_type": "code",
      "execution_count": null,
      "metadata": {
        "id": "f4fi3GOJvrMf",
        "colab": {
          "base_uri": "https://localhost:8080/"
        },
        "outputId": "6beff3f8-4915-4752-f2a6-4a5254d2acab"
      },
      "outputs": [
        {
          "output_type": "stream",
          "name": "stdout",
          "text": [
            "What is your name?Tony\n",
            "What is your location?home\n",
            "What is your destination?library\n",
            "Preferred means of transportation?taxi\n",
            "Tony wants to travel from home to  library by  taxi\n"
          ]
        }
      ],
      "source": [
        "\n",
        "name = input(\"What is your name?\")\n",
        "location = input(\"What is your location?\")\n",
        "destination = input(\"What is your destination?\")\n",
        "vehicle = input(\"Preferred means of transportation?\")\n",
        "print(name, \"wants to travel from\", location + \" to \",destination + \" by \", vehicle)\n"
      ]
    }
  ]
}