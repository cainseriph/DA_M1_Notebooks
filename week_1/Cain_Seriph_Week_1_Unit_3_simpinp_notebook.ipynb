{
  "cells": [
    {
      "cell_type": "markdown",
      "metadata": {
        "id": "P1X0Ge8h-YxX"
      },
      "source": [
        "# Inputs and outputs\n",
        "## Outputs\n",
        "\n",
        "When a cell of a Jupyter Notebook is executed, the return value (the result) of the last statement is printed below the cell. However,\n",
        "if the last statement does not have a return value (e.g. assigning a value to a variable does not have one), there will be no\n",
        "output.\n",
        "\n",
        "Thus, working with this kind of output has two drawbacks: First, only the result of the last statement is given as output. Second, if the last statement does not have a return value, there is no output at all!\n",
        "\n",
        "Using the Python function `print()`, it is possible overcome these drawbacks. The argument within the paranthesis will be printed as output below the cell. (There will be a complete chapter about functions. Just briefly: A function consists of a function name (here *print*) followed by a pair of paranthesis. Within these paranthesis there can be one or several arguments, which are separated by commas.)"
      ]
    },
    {
      "cell_type": "code",
      "execution_count": null,
      "metadata": {
        "colab": {
          "base_uri": "https://localhost:8080/"
        },
        "id": "CW_O5622-YxY",
        "outputId": "d593ed50-9293-4b16-a88a-ee433f49be00"
      },
      "outputs": [
        {
          "output_type": "stream",
          "name": "stdout",
          "text": [
            "Hello\n",
            "42\n",
            "Joey\n"
          ]
        }
      ],
      "source": [
        "print(\"Hello\")\n",
        "print(42)\n",
        "\n",
        "name = \"Joey\"\n",
        "print(name)"
      ]
    },
    {
      "cell_type": "markdown",
      "metadata": {
        "id": "U1_o51e6-YxZ"
      },
      "source": [
        "The desired output is passed to the `print()` function as an argument. It is also possible to provide multiple parameters to\n",
        "the `print` function. In this case the parameters must be separated by a comma (`,`)."
      ]
    },
    {
      "cell_type": "code",
      "execution_count": null,
      "metadata": {
        "colab": {
          "base_uri": "https://localhost:8080/"
        },
        "id": "81kB64sw-YxZ",
        "outputId": "cc5d4509-2298-431f-b34b-ede7ba01025b"
      },
      "outputs": [
        {
          "output_type": "stream",
          "name": "stdout",
          "text": [
            "Joey Ramone\n"
          ]
        }
      ],
      "source": [
        "name = \"Joey\"\n",
        "lastname = \"Ramone\"\n",
        "\n",
        "print(name, lastname)"
      ]
    },
    {
      "cell_type": "markdown",
      "metadata": {
        "id": "GDxpGRQN-YxZ"
      },
      "source": [
        "# Inputs\n",
        "Remember the exercise to calculate the surface area and volume of a cuboid? Calculating the values for a new cuboid has\n",
        "been quite tedious so far.\n",
        "\n",
        "Each time you need to:\n",
        "- Go to the cell of the notebook and change the Python program\n",
        "- Execute the cell again\n",
        "\n",
        "It would be much better if the program asked for the data to be processed as *input*. The Python program should be\n",
        "independent of specific values. The specific values should be provided as input to the program. This is the classic\n",
        "structure of a program according to the IPO principle: input → processing → output"
      ]
    },
    {
      "cell_type": "markdown",
      "metadata": {
        "id": "qSnchJ7c-Yxa"
      },
      "source": [
        "### The `input()` function\n",
        "\n",
        "The `input()` function can be used to read input from the user. A typical call of the function `input()` is:\n",
        "\n",
        "```python\n",
        "i = input(\"Please enter a number:\")\n",
        "print(i)\n",
        "```"
      ]
    },
    {
      "cell_type": "code",
      "execution_count": null,
      "metadata": {
        "colab": {
          "base_uri": "https://localhost:8080/"
        },
        "id": "LtDIVbtY-Yxa",
        "outputId": "b6e2349c-5bbe-4243-e80f-55c7a58fd4fa"
      },
      "outputs": [
        {
          "output_type": "stream",
          "name": "stdout",
          "text": [
            "Please insert a number: 5\n",
            "5\n"
          ]
        }
      ],
      "source": [
        "i = input(\"Please insert a number: \")\n",
        "print(i)"
      ]
    },
    {
      "cell_type": "markdown",
      "metadata": {
        "id": "YFSuWxPQ-Yxc"
      },
      "source": [
        "The function `input()` first outputs the given argument *(\"Please ...\")*. After that, the function waits for an input\n",
        "from the user. The user enters a value and finishes the input with the return key (enter key). The entered value is\n",
        "assigned to the variable `i`."
      ]
    },
    {
      "cell_type": "markdown",
      "metadata": {
        "id": "gZtJ91RW-Yxc"
      },
      "source": [
        "### Exercise\n",
        "Write a program that uses `input()` to retrieve values for first name, last name, and email address. Output the entered\n",
        "values afterwards."
      ]
    },
    {
      "cell_type": "code",
      "execution_count": null,
      "metadata": {
        "colab": {
          "base_uri": "https://localhost:8080/"
        },
        "id": "C6sPo2xT-Yxd",
        "outputId": "a7f7320c-6385-41f2-e924-82c340505eb4"
      },
      "outputs": [
        {
          "output_type": "stream",
          "name": "stdout",
          "text": [
            "What is your first name?Cain\n",
            "What is your last name?Seriph\n",
            "And a valid e-mail address:cainseriph@gmail.com\n",
            "I have a Cain Seriph at cainseriph@gmail.com\n"
          ]
        }
      ],
      "source": [
        "fname = input(\"What is your first name?\")\n",
        "lname = input(\"What is your last name?\")\n",
        "email = input(\"And a valid e-mail address:\")\n",
        "print(\"I have a\", fname, lname, \"at\", email)"
      ]
    },
    {
      "cell_type": "markdown",
      "metadata": {
        "id": "9DD0dW45-Yxd"
      },
      "source": [
        "### Exercise 2\n",
        "\n",
        "Write a program that uses `input()` to accept two numbers from a user and output the sum and the product of both numbers.\n",
        "\n",
        "Expected form of the output:\n",
        "The sum is 30.\n",
        "The product is 225."
      ]
    },
    {
      "cell_type": "code",
      "execution_count": null,
      "metadata": {
        "colab": {
          "base_uri": "https://localhost:8080/"
        },
        "id": "6k8wHh3p-Yxd",
        "outputId": "f3cfc50c-e269-4a5b-9905-1489ea08577c"
      },
      "outputs": [
        {
          "output_type": "stream",
          "name": "stdout",
          "text": [
            "Input a number please2\n",
            "Input a second number please5\n",
            "The sum of your input is  7.0  and the product is  10.0\n"
          ]
        }
      ],
      "source": [
        "num1 = float(input(\"Input a number please\"))\n",
        "num2 = float(input(\"Input a second number please\"))\n",
        "sum = num1 + num2\n",
        "product = num1 * num2\n",
        "print(\"The sum of your input is \", sum, \" and the product is \", product)\n"
      ]
    }
  ],
  "metadata": {
    "file_extension": ".py",
    "interpreter": {
      "hash": "ac59ebe37160ed0dfa835113d9b8498d9f09ceb179beaac4002f036b9467c963"
    },
    "kernelspec": {
      "display_name": "Python 3",
      "language": "python",
      "name": "python3"
    },
    "language_info": {
      "codemirror_mode": {
        "name": "ipython",
        "version": 3
      },
      "file_extension": ".py",
      "mimetype": "text/x-python",
      "name": "python",
      "nbconvert_exporter": "python",
      "pygments_lexer": "ipython3",
      "version": "3.9.7"
    },
    "mimetype": "text/x-python",
    "name": "python",
    "npconvert_exporter": "python",
    "pygments_lexer": "ipython3",
    "version": 3,
    "colab": {
      "provenance": []
    }
  },
  "nbformat": 4,
  "nbformat_minor": 0
}