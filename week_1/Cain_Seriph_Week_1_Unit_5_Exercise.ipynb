{
  "nbformat": 4,
  "nbformat_minor": 0,
  "metadata": {
    "colab": {
      "provenance": []
    },
    "kernelspec": {
      "name": "python3",
      "display_name": "Python 3"
    },
    "language_info": {
      "name": "python"
    }
  },
  "cells": [
    {
      "cell_type": "markdown",
      "source": [
        "# Week 1 Unit 5: Exercise\n",
        "\n",
        "Write a Python program that asks the user to enter three integer numbers. The program should output the largest of the three numbers.\n",
        "\n",
        "Below is an example execution of the program:\n",
        "\n",
        "```\n",
        "Please enter the first number: 23\n",
        "Please enter the second number: 42\n",
        "Please enter the third number: 11\n",
        "The largest number is 42\n",
        "```"
      ],
      "metadata": {
        "id": "SgAK_OYUxfJ2"
      }
    },
    {
      "cell_type": "code",
      "execution_count": null,
      "metadata": {
        "id": "p-HFYh-3xWmf",
        "colab": {
          "base_uri": "https://localhost:8080/"
        },
        "outputId": "a0477035-2ac1-4a33-8d86-0c6ff8225caa"
      },
      "outputs": [
        {
          "output_type": "stream",
          "name": "stdout",
          "text": [
            "Please enter 3 numbers:\n",
            "Please enter the first number:2\n",
            "Please enter the second number:4\n",
            "Please enter the third number:8\n",
            "The largest number is 8\n"
          ]
        }
      ],
      "source": [
        "print(\"Please enter 3 numbers:\")\n",
        "num1 = int(input(\"Please enter the first number:\"))\n",
        "num2 = int(input(\"Please enter the second number:\"))\n",
        "num3 = int(input(\"Please enter the third number:\"))\n",
        "\n",
        "if (num1 >= num2) and (num1 >= num3):\n",
        "\tlargest = num1\n",
        "elif (num2 >= num1) and (num2 >= num3):\n",
        "   \tlargest = num2\n",
        "else:\n",
        "\tlargest = num3\n",
        "print(\"The largest number is \" + str(largest))"
      ]
    }
  ]
}