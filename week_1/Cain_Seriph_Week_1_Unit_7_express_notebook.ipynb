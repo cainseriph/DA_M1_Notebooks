{
  "cells": [
    {
      "cell_type": "markdown",
      "metadata": {
        "id": "kzWuN1FniRIX"
      },
      "source": [
        "# Complex conditions\n",
        "As shown in the introduction to primitive data types, the operators *`and`*, *`or`* and *`not`* can be used to create\n",
        "complex expressions. Thus, these operators can be used to formulate complex conditions consisting of various\n",
        "comparisons. As always, parentheses can be used here for grouping and changing the order of evaluation. The conditions\n",
        "can be made arbitrarily complex, but will become more and more confusing with rising complexity."
      ]
    },
    {
      "cell_type": "code",
      "execution_count": null,
      "metadata": {
        "colab": {
          "base_uri": "https://localhost:8080/"
        },
        "id": "6VFeudwYiRIY",
        "outputId": "ddd07fa8-c5ad-4829-fd18-07e957bc84db"
      },
      "outputs": [
        {
          "name": "stdout",
          "output_type": "stream",
          "text": [
            "Please insert a number: 77\n"
          ]
        }
      ],
      "source": [
        "number = int(input(\"Please insert a number: \"))\n",
        "\n",
        "if (number % 3 == 0) and (number % 5 == 0):\n",
        "    print(number, \"can be divided by 3 and 5.\")"
      ]
    },
    {
      "cell_type": "code",
      "execution_count": null,
      "metadata": {
        "colab": {
          "base_uri": "https://localhost:8080/"
        },
        "id": "5xpvv_93iRIY",
        "outputId": "227121b1-a471-4b1f-8e5d-beac99f61dbb"
      },
      "outputs": [
        {
          "output_type": "stream",
          "name": "stdout",
          "text": [
            "Wow, that was a complicated condition!\n",
            "This one was easier...\n"
          ]
        }
      ],
      "source": [
        "a = 5\n",
        "b = 8\n",
        "c = 10\n",
        "d = True\n",
        "e = False\n",
        "\n",
        "\n",
        "if a < 6 and b > 7 and c >= 10 and d and not e:\n",
        "    print(\"Wow, that was a complicated condition!\")\n",
        "\n",
        "if c == 7 or not e:\n",
        "    print(\"This one was easier...\")"
      ]
    },
    {
      "cell_type": "code",
      "execution_count": null,
      "metadata": {
        "colab": {
          "base_uri": "https://localhost:8080/"
        },
        "id": "e1N0pau1iRIZ",
        "outputId": "6219f125-1880-41b6-a6dd-6c0e8e9efa89"
      },
      "outputs": [
        {
          "output_type": "stream",
          "name": "stdout",
          "text": [
            "True\n",
            "False\n"
          ]
        }
      ],
      "source": [
        "print(False and False or True)\n",
        "print(False and (False or True))"
      ]
    },
    {
      "cell_type": "markdown",
      "metadata": {
        "id": "9C6Lt3baiRIa"
      },
      "source": [
        "# Checking input\n",
        "You can use `input()` to read input from the user. The output data type of this function is always `string`. With the\n",
        "help of the functions `int()`, `bool()`... you can convert the data type. So far we have often used the following\n",
        "statement. What happens if the entered value is not convertible to a number (e.g. when entering *twenty*)?"
      ]
    },
    {
      "cell_type": "code",
      "execution_count": null,
      "metadata": {
        "colab": {
          "base_uri": "https://localhost:8080/"
        },
        "id": "SvhbDlnDiRIa",
        "outputId": "de1d98ed-46f1-4483-cb3e-e1edb1e8e5ea"
      },
      "outputs": [
        {
          "name": "stdout",
          "output_type": "stream",
          "text": [
            "Please enter a number:20\n"
          ]
        }
      ],
      "source": [
        "number = int(input(\"Please enter a number:\"))"
      ]
    },
    {
      "cell_type": "markdown",
      "metadata": {
        "id": "N9uLc45diRIa"
      },
      "source": [
        "In order to prevent the program from being aborted and the error message from being shown, it must be checked whether\n",
        "the input can be converted into a certain data type. For this purpose Python provides several\n",
        "[`String` methods](https://docs.python.org/3/library/stdtypes.html#string-methods) including:\n",
        "- isdecimal()\n",
        "- isalpha()\n",
        "- isspace()\n",
        "\n",
        "All these *`.issomething()`* methods return a boolean value (`True` or `False`). Thus they can be used to check if a\n",
        "string can be converted."
      ]
    },
    {
      "cell_type": "code",
      "execution_count": null,
      "metadata": {
        "id": "ZW3rMgn8iRIa"
      },
      "outputs": [],
      "source": [
        "number = input(\"Please insert a number: \")\n",
        "\n",
        "if number.isdigit():\n",
        "    number = int(number)\n",
        "    print(\"Very nice,\", number, \"is my favourite number.\")\n",
        "else:\n",
        "    print(\"Sorry, that was not a number!\")"
      ]
    },
    {
      "cell_type": "markdown",
      "metadata": {
        "id": "9aUeMpf3iRIb"
      },
      "source": [
        "# Exercise 1\n",
        "Examine the following example (from the previous unit) and consider why the conditions were nested. Would it be possible\n",
        "to rewrite the program so that nesting is not necessary? Try it yourself..."
      ]
    },
    {
      "cell_type": "code",
      "execution_count": null,
      "metadata": {
        "id": "aGmrS74XiRIb"
      },
      "outputs": [],
      "source": [
        "temperature = int(input(\"Please insert the current temperature: \"))\n",
        "rain = True\n",
        "wind = False\n",
        "\n",
        "if temperature > 20:\n",
        "    print(\"It's warm\")\n",
        "    if rain:\n",
        "        print(\"Warm & raining: summer in Aachen\")\n",
        "        if wind:\n",
        "            print(\"It's warm, it rains and it's windy!\")\n",
        "        else:\n",
        "            print(\"Warm, raining, no wind at all\")\n",
        "    else:\n",
        "        print(\"Warm and dry, beautiful!\")\n",
        "        if wind:\n",
        "            print(\"Warm, dry and windy: Good weather for sailing\")\n",
        "        else:\n",
        "            print(\"Warm, dry, windless: Just lie in the sun\")\n",
        "else:\n",
        "    print(\"If it's cold, I don't care about rain and wind\")"
      ]
    },
    {
      "cell_type": "code",
      "execution_count": null,
      "metadata": {
        "colab": {
          "base_uri": "https://localhost:8080/"
        },
        "id": "t0Bclh1aiRIc",
        "outputId": "c20589e8-e083-4755-b910-34b1d0156f08"
      },
      "outputs": [
        {
          "output_type": "stream",
          "name": "stdout",
          "text": [
            "Please insert the current temperature: 77\n",
            "Warm, raining, no wind\n"
          ]
        }
      ],
      "source": [
        "temperature = int(input(\"Please insert the current temperature: \"))\n",
        "rain = True\n",
        "wind = False\n",
        "\n",
        "if temperature > 20:\n",
        "\tif (rain == True) and (wind == True):\n",
        "\t\tprint(\"It's warm, it rains and it's windy!\")\n",
        "\tif (rain == True) and (wind == False):\n",
        "\t\tprint(\"Warm, raining, no wind\")\n",
        "\tif (rain == False) and (wind == True):\n",
        "\t\tprint(\"Warm, dry and windy: Good weather for sailing\")\n",
        "\tif (rain == False) and (wind == False):\n",
        "\t\tprint(\"Warm, dry, windless: Just lie in the sun\")\n",
        "else:\n",
        "    print(\"If it's cold, I don't care about rain and wind\")"
      ]
    },
    {
      "cell_type": "markdown",
      "metadata": {
        "id": "oPn_tUG3iRIc"
      },
      "source": [
        "# Exercise 2\n",
        "As is well known, a calendar year has 365 or 366 days. According to the Gregorian calendar, a year lasts exactly\n",
        "365.2425 days, i.e. 365 days, 5 hours, 49 minutes, 12 seconds or in other words: 31,556,952 seconds. So, roughly\n",
        "speaking, a year is 1/4 of a day longer than 365 days.\n",
        "\n",
        "To correct this difference, leap days have been introduced. Every four years the 29th of February is inserted as a leap\n",
        "day. However, with this we make a new small \"mistake\" because now we have a hundredth of a day too much. For this\n",
        "reason, every 100 years - namely, if the year number is divisible by 100 - a leap day is omitted. For example, the year\n",
        "1900 was not a leap year, although it was divisible by four.\n",
        "\n",
        "Albeit this is almost sufficient, we need another adjustment every 400 years, then a leap day is inserted, although the\n",
        "year number is divisible by hundred. According to this rule, the year 2000 was a leap year for example.\n",
        "\n",
        "With these information now write a Python program that calculates whether a given year is a leap year or not."
      ]
    },
    {
      "cell_type": "code",
      "execution_count": null,
      "metadata": {
        "colab": {
          "base_uri": "https://localhost:8080/"
        },
        "id": "OoRHK0XmiRId",
        "outputId": "b074b0bc-6719-4086-f305-2b42979dd56c"
      },
      "outputs": [
        {
          "output_type": "stream",
          "name": "stdout",
          "text": [
            "Please enter a year:2077\n",
            "The year 2077 is not a leap year.\n"
          ]
        }
      ],
      "source": [
        "year = input(\"Please enter a year:\")\n",
        "if year.isdigit():\n",
        "\n",
        "\tyear = int(year)\n",
        "\n",
        "\tif year % 4 ==  0 and ((year % 100 != 0) or (year % 400 == 0)):\n",
        "\t\tprint(\"The year\", year, \"is a leap year.\")\n",
        "\telse:\n",
        "\t\tprint(\"The year\", year , \"is not a leap year.\")\n",
        "else:\n",
        "\tprint(\"Year not entered.\")"
      ]
    }
  ],
  "metadata": {
    "file_extension": ".py",
    "interpreter": {
      "hash": "ac59ebe37160ed0dfa835113d9b8498d9f09ceb179beaac4002f036b9467c963"
    },
    "kernelspec": {
      "display_name": "Python 3 (ipykernel)",
      "language": "python",
      "name": "python3"
    },
    "language_info": {
      "codemirror_mode": {
        "name": "ipython",
        "version": 3
      },
      "file_extension": ".py",
      "mimetype": "text/x-python",
      "name": "python",
      "nbconvert_exporter": "python",
      "pygments_lexer": "ipython3",
      "version": "3.9.10"
    },
    "mimetype": "text/x-python",
    "name": "python",
    "npconvert_exporter": "python",
    "pygments_lexer": "ipython3",
    "version": 3,
    "colab": {
      "provenance": []
    }
  },
  "nbformat": 4,
  "nbformat_minor": 0
}